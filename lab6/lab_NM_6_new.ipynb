{
 "cells": [
  {
   "cell_type": "markdown",
   "metadata": {},
   "source": [
    "# Laboratory 6 - Rootfinding algorithms\n",
    "#### Grzegorz Fotyga"
   ]
  },
  {
   "cell_type": "markdown",
   "metadata": {},
   "source": [
    "## 1 Introduction\n",
    "\n",
    "The goal of the lab is to implement two root-finding algorithms, the bisection method and the secant method, and use them to solve the following two problems:\n",
    "\n",
    "### Problem 1 \n",
    "Figure 1 shows a circuit with a resistor, an inductor, and a capacitor in parallel. Kirchhoff’s rules can be used to express the impedance magnitude of the system as follows:\n",
    "\n",
    "$|Z| = \\dfrac{1}{\\sqrt{\\dfrac{1}{R^2} + (\\omega C - \\dfrac{1}{\\omega L})^2}}  \\   \\   \\   \\  (1)$       \n",
    "\n",
    "\n",
    "where $\\omega$ is the angular frequency. Find the $\\omega$ that results in an impedance of $75 \\Omega$. For the following parameters: R = $725\\Omega$, C = 8e−5F, L = 2H, with initial interval $\\omega \\in \\left< 1,50 \\right>$  and $\\epsilon_f$ = 1e−12.\n",
    "\n",
    "\n",
    "### Problem 2\n",
    "\n",
    "The upward velocity of a rocket can be computed by the following formula \n",
    "\n",
    "$v = u \\text{ln}\\left(\\dfrac{m_0}{m_0 - qt} \\right) - gt     \\  \\    \\  \\    (2)$    \n",
    "\n",
    "\n",
    "where $t$ denotes the time, $v$ is the upward velocity, $m_0$ - the initial mass of the rocket at time $t = 0$, $u$ - the velocity at which fuel is expelled relative to the rocket, $q$ - the fuel consumption rate, $g = 9.81m/s2$ - the downward acceleration of gravity. Compute the time, at which $v = 750m/s$, assuming $m_0 = 150000kg$, $q = 2700kg/s$, $u = 2000m/s$. Set the initial interval to: $t \\in \\left< 1, 50 \\right>$, and the tolerance to: $\\epsilon_f$ = 1e−12.\n",
    "\n"
   ]
  },
  {
   "cell_type": "code",
   "execution_count": null,
   "metadata": {},
   "outputs": [],
   "source": [
    "import matplotlib.pyplot as plt\n",
    "import matplotlib.image as mpimg\n",
    "img = mpimg.imread('circuit.png')\n",
    "imgplot = plt.imshow(img)\n",
    "plt.axis('off')  \n",
    "plt.show()"
   ]
  },
  {
   "cell_type": "markdown",
   "metadata": {},
   "source": [
    "### Task 1\n",
    "\n",
    "- Define a function whose input parameter is $\\omega$ and output parameter is impedance $Z$, based on formula (1).\n",
    "- Define a function whose input parameter is a time $t$ and output parameter is velocity $v$, based on formula (2).\n"
   ]
  },
  {
   "cell_type": "code",
   "execution_count": null,
   "metadata": {},
   "outputs": [],
   "source": [
    "import math\n",
    "import numpy as np\n",
    "\n",
    "# your code"
   ]
  },
  {
   "cell_type": "markdown",
   "metadata": {},
   "source": [
    "### Task 2\n",
    "\n",
    "Implement bisection algorithm in a form of a function with the following input parameters: \n",
    "- initial interval - floats: $a$ and $b$ \n",
    "- tolerance: $\\epsilon_f = 1e-12$ \n",
    "\n",
    "Specify two stopping criterions:\n",
    "- absoulte value of a function in the middle of subregion will drop below $\\epsilon_f$\n",
    "or:\n",
    "- width of subregion drops below $\\epsilon_f$\n",
    "\n",
    "Output of a function:\n",
    "- root\n",
    "- number of iterations\n",
    "\n",
    "Test your bisection algorithm on a simple function (suggest one!)"
   ]
  },
  {
   "cell_type": "code",
   "execution_count": null,
   "metadata": {},
   "outputs": [],
   "source": [
    "# your code"
   ]
  },
  {
   "cell_type": "markdown",
   "metadata": {},
   "source": [
    "### Task 3\n",
    "\n",
    "Implement secant algorithm in a form of a function with the following input parameters: \n",
    "- the first two points - floats: $a$ and $b$ \n",
    "- tolerance: $\\epsilon_f = 1e-12$ \n",
    "\n",
    "Specify a stopping criterion:\n",
    "- absoulte value of a function in the current point will drop below $\\epsilon_f$\n",
    "\n",
    "Output of a function:\n",
    "- root\n",
    "- number of iterations\n",
    "\n",
    "Test your secant algorithm on a simple function (suggest one!)"
   ]
  },
  {
   "cell_type": "code",
   "execution_count": null,
   "metadata": {},
   "outputs": [],
   "source": [
    "# your code"
   ]
  },
  {
   "cell_type": "markdown",
   "metadata": {},
   "source": [
    "### Task 4\n",
    "\n",
    "Test your algorithms on the real problems specified in the previous points. How many iterations did each method take to converge? What is the value of $\\omega$ and $t$ you are looking for?"
   ]
  },
  {
   "cell_type": "code",
   "execution_count": null,
   "metadata": {},
   "outputs": [],
   "source": [
    "# your code"
   ]
  },
  {
   "cell_type": "markdown",
   "metadata": {},
   "source": [
    "### Task 5\n",
    "\n",
    "As the output data in the Bisection and Secant algorithms, add a vector storing subsequent absolute values of the function (in subsequent root approximations). Plot this vector. What can you say about the convergence?\n",
    "\n",
    "Hint: In subsequent iterations, you compute approximate values of the root as well as the absolute values of the analyzed function at these points. The goal here is to plot (using the plt.semilogy() function) the absolute values of the function. For the last iteration, it should be below 1e-12.\n",
    "\n",
    "Focus on the convergence rates. Is it linear? Quadratic? Compare it with the results shown in the lecture slides."
   ]
  },
  {
   "cell_type": "code",
   "execution_count": null,
   "metadata": {},
   "outputs": [],
   "source": [
    "#your code"
   ]
  }
 ],
 "metadata": {
  "kernelspec": {
   "display_name": "Python 3",
   "language": "python",
   "name": "python3"
  },
  "language_info": {
   "codemirror_mode": {
    "name": "ipython",
    "version": 3
   },
   "file_extension": ".py",
   "mimetype": "text/x-python",
   "name": "python",
   "nbconvert_exporter": "python",
   "pygments_lexer": "ipython3",
   "version": "3.12.0"
  }
 },
 "nbformat": 4,
 "nbformat_minor": 2
}
