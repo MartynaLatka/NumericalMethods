{
 "cells": [
  {
   "cell_type": "markdown",
   "metadata": {},
   "source": [
    "# Laboratory 7 - Approximation\n",
    "#### Grzegorz Fotyga"
   ]
  },
  {
   "cell_type": "markdown",
   "metadata": {},
   "source": [
    "You are a team member taking part in a project aiming to create a system to measure the strength of wireless signals (Wi-Fi, Zig-Bee, LTE, 5G, etc.) inside buildings. The system consists of:\n",
    "\n",
    "- A drone equipped with appropriate sensors,\n",
    "- A drone location system (3 antennas; the location of the drone is determined by measuring the signal strength from each of the antennas),\n",
    "- A server collecting measurement data. Based on the computed trajectory of the drone, a 3D distribution map of signal strength is created inside the test room.\n",
    "\n",
    "The location of the drone is determined at regular intervals based on the location system; however, the error of the location system is approximately 5%."
   ]
  },
  {
   "cell_type": "markdown",
   "metadata": {},
   "source": [
    "### Task 1\n",
    "\n",
    "Load trajectory of the drone, which consist of 4 vectors:\n",
    "- x(t),y(t),z(t), coordinates as a function of a time\n",
    "- moments of time in which the drone position (i.e. vectors: x(t),y(t),z(t)) was determined (flight duration is 150 seconds).\n",
    "\n",
    "Generate 3D plot with measured trajectory of a drone. \n",
    "\n",
    "Note that: in reality, the drone's trajectory is SMOOTH (spring-shape), but the localization system has an error that makes the presented trajectory not look perfect."
   ]
  },
  {
   "cell_type": "code",
   "execution_count": null,
   "metadata": {},
   "outputs": [],
   "source": [
    "import numpy as np\n",
    "\n",
    "x_coord = np.loadtxt('x_coord.txt')\n",
    "y_coord = np.loadtxt('y_coord.txt')\n",
    "z_coord = np.loadtxt('z_coord.txt')\n",
    "time_vec = np.loadtxt('time.txt')"
   ]
  },
  {
   "cell_type": "code",
   "execution_count": null,
   "metadata": {},
   "outputs": [],
   "source": [
    "# pip install ipympl   # install in terminal \n",
    "# # you can use it to rotate the plot:\n",
    "# %matplotlib widget  \n",
    "\n",
    "import matplotlib.pyplot as plt\n",
    "from mpl_toolkits.mplot3d import Axes3D\n",
    "\n",
    "fig = plt.figure()\n",
    "ax = fig.add_subplot(111, projection='3d')\n",
    "\n",
    "ax.plot3D(x_coord, y_coord, z_coord, '-')\n",
    "\n",
    "ax.set_xlabel('X axis')\n",
    "ax.set_ylabel('Y axis')\n",
    "ax.set_zlabel('Z axis')\n",
    "\n",
    "plt.show()"
   ]
  },
  {
   "cell_type": "markdown",
   "metadata": {},
   "source": [
    "### Task 2\n",
    "\n",
    "Approximate the position of the drone using polynomials. \n",
    "\n",
    "Use functions: \n",
    "- np.polyfit() - which computes the coefficients of polynomial approximation. Check: https://numpy.org/doc/stable/reference/generated/numpy.polyfit.html\n",
    "- np.polyval() - which uses these coefficients to obtain the approximating function. Check: https://numpy.org/doc/stable/reference/generated/numpy.polyval.html\n",
    "- use order of approximation *N = 50*\n",
    "- all procedures should be included into your function called: *polynomial_approx()*, with proper input and output parameters.  \n",
    "\n"
   ]
  },
  {
   "cell_type": "code",
   "execution_count": 2,
   "metadata": {},
   "outputs": [],
   "source": [
    "def polynomial_approx():   # specify input parameters\n",
    "\n",
    "    # compute coefficients for polynomial approximation using: np.polyfit()\n",
    "    \n",
    "    # define the moments of time for which the approximating function will be evaluated\n",
    "    n_points = 1000\n",
    "    t2 = np.linspace(0, 150, n_points)  # moments of the time for which the approximating function will be evaluated\n",
    "    \n",
    "    # Compute trajectory of the drone in 1000 points (specified in t2) using: np.polyval()  \n",
    "    # return values_approx, t2   # return values of the approximating function and time vector "
   ]
  },
  {
   "cell_type": "markdown",
   "metadata": {},
   "source": [
    "- Approximate SEPARATELY x, y and z coordinates using *polynomial_approx()* function (with np.polyfit() and np.polyval() included).\n",
    "- Plot both the measured data and approximated one. \n",
    "- Can you see the smoothing property of approximation process? It is assumed that it should eliminate the measurement error. Generate proper plots. "
   ]
  },
  {
   "cell_type": "code",
   "execution_count": null,
   "metadata": {},
   "outputs": [],
   "source": [
    "# your code"
   ]
  },
  {
   "cell_type": "markdown",
   "metadata": {},
   "source": [
    "### Task 3\n",
    "\n",
    "The team member responsible for the system tests noticed that for the trajectory with fewer measurement nodes (larger time intervals), the algorithm generates huge errors. Your next task is to find the error and correct the algorithm. Plot the location of the drone (real location and approximation) for the second trajectory.\n",
    "\n",
    "- load the data (*x_coord2.txt*...)\n",
    "- plot the trajectory\n",
    "- approximate it using *polynomial_approx()* function, and order of polynomial *N = 50*.\n",
    "- what is the root cause of this effect? Write a short explanation with proper plots (in external *.png files). "
   ]
  },
  {
   "cell_type": "code",
   "execution_count": null,
   "metadata": {},
   "outputs": [],
   "source": [
    "# your code "
   ]
  },
  {
   "cell_type": "markdown",
   "metadata": {},
   "source": [
    "### Task 4\n",
    "\n",
    "Check whether the trigonometric approximation is resistant to the above effect. Include your comments and observatons. "
   ]
  },
  {
   "cell_type": "code",
   "execution_count": null,
   "metadata": {},
   "outputs": [],
   "source": [
    "def aprox_tryg(time_vec, coord_vec, N):\n",
    "    \"\"\"\n",
    "    Approximation using trigonometric functions\n",
    "    \"\"\"\n",
    "\n",
    "    time_vec = time_vec / np.max(time_vec) \n",
    "    S = np.zeros((N, N))\n",
    "\n",
    "    for k in range(N):\n",
    "        for l in range(N):\n",
    "            for i in range(len(coord_vec)):\n",
    "                S[k, l] += np.cos((l + 1) * time_vec[i]) * np.cos((k + 1) * time_vec[i])\n",
    "    \n",
    "    t = np.zeros(N)\n",
    "    for k in range(N):\n",
    "        for i in range(len(coord_vec)):\n",
    "            t[k] += coord_vec[i] * np.cos((k + 1) * time_vec[i])\n",
    "    \n",
    "    c = np.linalg.solve(S, t)\n",
    "    c1 = np.zeros((N, len(time_vec)))\n",
    "    \n",
    "    for i in range(N):\n",
    "        c1[i, :] = np.cos((i + 1) * time_vec)\n",
    "    \n",
    "    x_aprox = np.dot(c1.T, c)\n",
    "\n",
    "    return x_aprox"
   ]
  },
  {
   "cell_type": "code",
   "execution_count": null,
   "metadata": {},
   "outputs": [],
   "source": [
    "# your code"
   ]
  }
 ],
 "metadata": {
  "kernelspec": {
   "display_name": "Python 3",
   "language": "python",
   "name": "python3"
  },
  "language_info": {
   "codemirror_mode": {
    "name": "ipython",
    "version": 3
   },
   "file_extension": ".py",
   "mimetype": "text/x-python",
   "name": "python",
   "nbconvert_exporter": "python",
   "pygments_lexer": "ipython3",
   "version": "3.12.0"
  }
 },
 "nbformat": 4,
 "nbformat_minor": 2
}
