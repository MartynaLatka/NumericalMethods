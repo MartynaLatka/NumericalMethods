{
 "cells": [
  {
   "cell_type": "markdown",
   "metadata": {},
   "source": [
    "# Laboratory 5 - Systems of linear equation\n",
    "#### Grzegorz Fotyga"
   ]
  },
  {
   "cell_type": "markdown",
   "metadata": {},
   "source": [
    "## 1 Introduction\n",
    "\n",
    "The aim of the following laboratory is to use various algorithms to solve systems of linear equations. The analyzed systems of equations are related to the PageRank algorithm, which was discussed in previous classes. In this laboratory, it is crucial to observe the effectiveness of individual algorithms.\n"
   ]
  },
  {
   "cell_type": "markdown",
   "metadata": {},
   "source": [
    "### Task 1\n",
    "\n",
    "The following code is used to generate the matrix: Edges. It contains links in a network of sites. Based on the connections, we generate matrices related to the PageRank algorithm. Solving the system of linear equations will allow you to determine the ranking of the pages (just like in the previous classes). Note - the codes below are only for generating Edges arrays. Understanding them is not necessary to complete subsequent tasks.\n",
    "\n",
    "Generate network with 2000 sites and dnsity of connection: 20. "
   ]
  },
  {
   "cell_type": "code",
   "execution_count": 1,
   "metadata": {},
   "outputs": [
    {
     "name": "stdout",
     "output_type": "stream",
     "text": [
      "number of connections in the network: 39762\n"
     ]
    }
   ],
   "source": [
    "import numpy as np\n",
    "\n",
    "def remove_duplicate_columns(matrix):\n",
    "    unique_columns = np.unique(matrix, axis=1)\n",
    "    return unique_columns\n",
    "\n",
    "def generate_network(N, density):\n",
    "    Edges = np.random.randint(1, N+1, size=(2, int(N * density)))\n",
    "    Edges = np.delete(Edges, np.where(Edges[0] == Edges[1]), axis=1)\n",
    "    Edges = remove_duplicate_columns(Edges)\n",
    "    return Edges\n",
    "\n",
    "\n",
    "n = 2000  # number of sites\n",
    "density = 20  # density of connections in the network\n",
    "Edges = generate_network(n, density)\n",
    "print(\"number of connections in the network:\", Edges.shape[1])  # print number of connections"
   ]
  },
  {
   "cell_type": "markdown",
   "metadata": {},
   "source": [
    "### Task 2\n",
    "\n",
    "Generate matrices related to the PageRank algorithm based on the network. Create an appropriate function that generates PageRank matrices and can be used in subsequent tasks."
   ]
  },
  {
   "cell_type": "code",
   "execution_count": 2,
   "metadata": {},
   "outputs": [
    {
     "name": "stderr",
     "output_type": "stream",
     "text": [
      "/Users/adampiotrowski/.pyenv/versions/3.9.20/lib/python3.9/site-packages/scipy/sparse/_index.py:151: SparseEfficiencyWarning: Changing the sparsity structure of a csr_matrix is expensive. lil_matrix is more efficient.\n",
      "  self._set_arrayXarray(i, j, x)\n",
      "/Users/adampiotrowski/.pyenv/versions/3.9.20/lib/python3.9/site-packages/scipy/sparse/_index.py:108: SparseEfficiencyWarning: Changing the sparsity structure of a csr_matrix is expensive. lil_matrix is more efficient.\n",
      "  self._set_intXint(row, col, x.flat[0])\n"
     ]
    }
   ],
   "source": [
    "from scipy.sparse import csr_matrix\n",
    "from scipy.sparse import identity\n",
    "import matplotlib.pyplot as plt \n",
    "\n",
    "d = 0.1  # dumping factor\n",
    "b = np.ones(n) * (1-d)/n\n",
    "I = identity(n, format='csr')\n",
    "\n",
    "B = csr_matrix((n,n))\n",
    "B[Edges[1] - 1, Edges[0] - 1] = 1\n",
    "\n",
    "L = np.zeros(n)\n",
    "for i in range(n):\n",
    "    L[i] = np.sum(B[:,i])\n",
    "\n",
    "A = csr_matrix((n,n))\n",
    "for i in range(n):\n",
    "    A[i,i] = 1/L[i]\n",
    "M = I - d * B @ A"
   ]
  },
  {
   "cell_type": "markdown",
   "metadata": {},
   "source": [
    "### Task 3\n",
    "\n",
    "- Solve Page Rank system of equations $\\mathbf{M}\\mathbf{r} = \\mathbf{b}$ using *inv()* funcion from *scipy* module: $\\mathbf{r} = \\mathbf{M}^{-1}\\mathbf{b}$. Save $\\mathbf{r}$ for comparison with other methods.\n",
    "\n",
    "- Measure the time needed for this operation (and save it for comparison with other methods).\n",
    "\n",
    "- (and promise that this lab will be the last time you solve a system of equations this way!)\n",
    "\n",
    "- Use function *plt.spy()* with parameter: *markersize=0.1* to observe nonzero elements of $\\mathbf{M}$ and $\\mathbf{M}^{-1}$ matrices. Check the memory usage of both matrices. Comment these results. "
   ]
  },
  {
   "cell_type": "code",
   "execution_count": null,
   "metadata": {},
   "outputs": [
    {
     "name": "stderr",
     "output_type": "stream",
     "text": [
      "/Users/adampiotrowski/.pyenv/versions/3.9.20/lib/python3.9/site-packages/scipy/sparse/linalg/_dsolve/linsolve.py:603: SparseEfficiencyWarning: splu converted its input to CSC format\n",
      "  return splu(A).solve\n",
      "/Users/adampiotrowski/.pyenv/versions/3.9.20/lib/python3.9/site-packages/scipy/sparse/linalg/_matfuncs.py:76: SparseEfficiencyWarning: spsolve is more efficient when sparse b is in the CSC matrix format\n",
      "  Ainv = spsolve(A, I)\n"
     ]
    },
    {
     "name": "stdout",
     "output_type": "stream",
     "text": [
      "Elapsed time: 4.736630916595459 sec\n"
     ]
    }
   ],
   "source": [
    "from scipy.sparse.linalg import inv\n",
    "import time as t"
   ]
  },
  {
   "cell_type": "code",
   "execution_count": 4,
   "metadata": {},
   "outputs": [
    {
     "name": "stdout",
     "output_type": "stream",
     "text": [
      "Memory usage of CSR matrix: 509148 bytes\n"
     ]
    }
   ],
   "source": [
    "import sys \n",
    "memory_usage = M.data.nbytes + M.indices.nbytes + M.indptr.nbytes\n",
    "print(\"Memory usage of CSR matrix:\", memory_usage, \"bytes\")"
   ]
  },
  {
   "cell_type": "markdown",
   "metadata": {},
   "source": [
    "Your commens:"
   ]
  },
  {
   "cell_type": "markdown",
   "metadata": {},
   "source": [
    "### Task 4\n",
    "\n",
    "- Solve the same system of equations using direct method: *spsolve()*. Save $\\mathbf{r}$ for comparison with other methods.\n",
    "- Measure the time needed for this operation (and save it for comparison with other methods).\n",
    "- Use plt.plot() function to show the difference between solutions obtained in previous tasks. What is the maximum value of the difference between these vectors?\n",
    "- Compute the norm (*np.linalg.norm()*) of the the difference between these two vectors. "
   ]
  },
  {
   "cell_type": "code",
   "execution_count": 5,
   "metadata": {},
   "outputs": [],
   "source": [
    "from scipy.sparse.linalg import spsolve\n",
    "\n",
    "# your code"
   ]
  },
  {
   "cell_type": "markdown",
   "metadata": {},
   "source": [
    "### Task 5\n",
    "\n",
    "In this task you will implement Jacobi mathod. Firstly, split $\\mathbf{M}$ into 3 components: *$\\textbf{M} = -\\textbf{L} - \\textbf{U} + \\textbf{D}$*\n",
    "\n",
    "- $\\textbf{L}$ contains all elements of $\\mathbf{M}$, which lie below the diagonal (without diagonal). It can be computed using *tril()*, with parameter *k = -1*, wchich means that we do not include elements from diagonal. \n",
    "\n",
    "- $\\textbf{U}$ contains all elements of $\\mathbf{M}$, which lie above the diagonal (without diagonal). It can be computed using *triu()*, with parameter *k = 1*, wchich means that we do not include elements from diagonal. \n",
    "\n",
    "- $\\textbf{D}$ contains all elements of $\\mathbf{M}$, which lie at the diagonal. In our case it is just identity matrix. \n",
    "\n",
    "- Use *spy()* to observe nonzero elements. \n"
   ]
  },
  {
   "cell_type": "code",
   "execution_count": 6,
   "metadata": {},
   "outputs": [],
   "source": [
    "from scipy.sparse import csr_matrix, triu, tril\n",
    "\n",
    "# your code"
   ]
  },
  {
   "cell_type": "markdown",
   "metadata": {},
   "source": [
    "### Task 6 - Jacobi\n",
    "\n",
    "- Generate $\\mathbf{r}^0$ vector of the same size as $\\mathbf{b}$ vector, which is full of ones. It will be used as a starting vector for Jacobi scheme. \n",
    "- Use Jacobi scheme to solve system of equations in iterative way: $\\widetilde{\\textbf{r}}^{n+1} = \\textbf{D}^{-1}(\\textbf{L} + \\textbf{U})\\widetilde{\\textbf{r}}^{n} + \\textbf{D}^{-1}\\textbf{b}$\t\n",
    "\n",
    "- Hint: $\\mathbf{D}$ is an identity matrix. Do you need to explicitely compute $\\mathbf{D}^{-1}$? \n",
    "- In each iteration compute the real error ($\\textbf{e}^n = \\textbf{r} - \\widetilde{\\textbf{r}}^{n} $, where $\\textbf{r}$ is a solution obtained using the direct scheme (task 4)) and the residual error ($\\textbf{res}^n = \\textbf{M}\\widetilde{\\textbf{r}}^n - \\textbf{b}$)\n",
    "- Observe the NORM of these error vectors in subsequent iterations. \n",
    "- Stop iterative scheme once the NORM of the residual error falls below the value 1e-12."
   ]
  },
  {
   "cell_type": "code",
   "execution_count": 7,
   "metadata": {},
   "outputs": [],
   "source": [
    "# your code"
   ]
  },
  {
   "cell_type": "markdown",
   "metadata": {},
   "source": [
    "### Task 7\n",
    "\n",
    "Compare the computational times of three methods: inv, direct and Jacobi.  "
   ]
  },
  {
   "cell_type": "markdown",
   "metadata": {},
   "source": [
    "### Task 8 - additional\n",
    "\n",
    "implement Gauss - Seidel scheme.\n",
    " \n",
    "$\\widetilde{\\textbf{r}}^{n+1} = (\\textbf{D -L})^{-1}(\\textbf{U} \\widetilde{\\textbf{r}}^{n}) + (\\textbf{D -L})^{-1}\\textbf{b}$"
   ]
  },
  {
   "cell_type": "code",
   "execution_count": 8,
   "metadata": {},
   "outputs": [],
   "source": [
    "# your code"
   ]
  }
 ],
 "metadata": {
  "kernelspec": {
   "display_name": "Python 3",
   "language": "python",
   "name": "python3"
  },
  "language_info": {
   "codemirror_mode": {
    "name": "ipython",
    "version": 3
   },
   "file_extension": ".py",
   "mimetype": "text/x-python",
   "name": "python",
   "nbconvert_exporter": "python",
   "pygments_lexer": "ipython3",
   "version": "3.9.20"
  }
 },
 "nbformat": 4,
 "nbformat_minor": 2
}
